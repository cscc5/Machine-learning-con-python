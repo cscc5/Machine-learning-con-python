{
 "cells": [
  {
   "cell_type": "code",
   "execution_count": 10,
   "metadata": {},
   "outputs": [],
   "source": [
    "import pandas as pd\n",
    "import numpy as np\n",
    "import matplotlib.pyplot as plt"
   ]
  },
  {
   "cell_type": "code",
   "execution_count": 11,
   "metadata": {},
   "outputs": [],
   "source": [
    "df = pd.read_csv(\"./alturaPadresHijos.csv\")"
   ]
  },
  {
   "cell_type": "code",
   "execution_count": 12,
   "metadata": {},
   "outputs": [
    {
     "data": {
      "text/html": [
       "<div>\n",
       "<style scoped>\n",
       "    .dataframe tbody tr th:only-of-type {\n",
       "        vertical-align: middle;\n",
       "    }\n",
       "\n",
       "    .dataframe tbody tr th {\n",
       "        vertical-align: top;\n",
       "    }\n",
       "\n",
       "    .dataframe thead th {\n",
       "        text-align: right;\n",
       "    }\n",
       "</style>\n",
       "<table border=\"1\" class=\"dataframe\">\n",
       "  <thead>\n",
       "    <tr style=\"text-align: right;\">\n",
       "      <th></th>\n",
       "      <th>id</th>\n",
       "      <th>Midparent</th>\n",
       "      <th>Child</th>\n",
       "      <th>Quartile</th>\n",
       "    </tr>\n",
       "  </thead>\n",
       "  <tbody>\n",
       "    <tr>\n",
       "      <th>count</th>\n",
       "      <td>928.000000</td>\n",
       "      <td>928.000000</td>\n",
       "      <td>928.000000</td>\n",
       "      <td>928.000000</td>\n",
       "    </tr>\n",
       "    <tr>\n",
       "      <th>mean</th>\n",
       "      <td>464.500000</td>\n",
       "      <td>68.308190</td>\n",
       "      <td>68.088470</td>\n",
       "      <td>2.063578</td>\n",
       "    </tr>\n",
       "    <tr>\n",
       "      <th>std</th>\n",
       "      <td>268.034824</td>\n",
       "      <td>1.787333</td>\n",
       "      <td>2.517941</td>\n",
       "      <td>1.092906</td>\n",
       "    </tr>\n",
       "    <tr>\n",
       "      <th>min</th>\n",
       "      <td>1.000000</td>\n",
       "      <td>64.000000</td>\n",
       "      <td>61.700000</td>\n",
       "      <td>1.000000</td>\n",
       "    </tr>\n",
       "    <tr>\n",
       "      <th>25%</th>\n",
       "      <td>232.750000</td>\n",
       "      <td>67.500000</td>\n",
       "      <td>66.200000</td>\n",
       "      <td>1.000000</td>\n",
       "    </tr>\n",
       "    <tr>\n",
       "      <th>50%</th>\n",
       "      <td>464.500000</td>\n",
       "      <td>68.500000</td>\n",
       "      <td>68.200000</td>\n",
       "      <td>2.000000</td>\n",
       "    </tr>\n",
       "    <tr>\n",
       "      <th>75%</th>\n",
       "      <td>696.250000</td>\n",
       "      <td>69.500000</td>\n",
       "      <td>70.200000</td>\n",
       "      <td>3.000000</td>\n",
       "    </tr>\n",
       "    <tr>\n",
       "      <th>max</th>\n",
       "      <td>928.000000</td>\n",
       "      <td>73.000000</td>\n",
       "      <td>73.700000</td>\n",
       "      <td>4.000000</td>\n",
       "    </tr>\n",
       "  </tbody>\n",
       "</table>\n",
       "</div>"
      ],
      "text/plain": [
       "               id   Midparent       Child    Quartile\n",
       "count  928.000000  928.000000  928.000000  928.000000\n",
       "mean   464.500000   68.308190   68.088470    2.063578\n",
       "std    268.034824    1.787333    2.517941    1.092906\n",
       "min      1.000000   64.000000   61.700000    1.000000\n",
       "25%    232.750000   67.500000   66.200000    1.000000\n",
       "50%    464.500000   68.500000   68.200000    2.000000\n",
       "75%    696.250000   69.500000   70.200000    3.000000\n",
       "max    928.000000   73.000000   73.700000    4.000000"
      ]
     },
     "execution_count": 12,
     "metadata": {},
     "output_type": "execute_result"
    }
   ],
   "source": [
    "df.describe()"
   ]
  },
  {
   "attachments": {},
   "cell_type": "markdown",
   "metadata": {
    "vscode": {
     "languageId": "html"
    }
   },
   "source": [
    "<img src=\"./MicrosoftTeams-image1.png\">"
   ]
  },
  {
   "cell_type": "code",
   "execution_count": 13,
   "metadata": {},
   "outputs": [],
   "source": [
    "df[\"Midparent_cm\"] = df[\"Midparent\"]*2.54\n",
    "df[\"Child_cm\"] = df[\"Child\"]*2.54"
   ]
  },
  {
   "cell_type": "code",
   "execution_count": 14,
   "metadata": {},
   "outputs": [
    {
     "data": {
      "text/html": [
       "<div>\n",
       "<style scoped>\n",
       "    .dataframe tbody tr th:only-of-type {\n",
       "        vertical-align: middle;\n",
       "    }\n",
       "\n",
       "    .dataframe tbody tr th {\n",
       "        vertical-align: top;\n",
       "    }\n",
       "\n",
       "    .dataframe thead th {\n",
       "        text-align: right;\n",
       "    }\n",
       "</style>\n",
       "<table border=\"1\" class=\"dataframe\">\n",
       "  <thead>\n",
       "    <tr style=\"text-align: right;\">\n",
       "      <th></th>\n",
       "      <th>id</th>\n",
       "      <th>Midparent</th>\n",
       "      <th>Child</th>\n",
       "      <th>Quartile</th>\n",
       "      <th>Midparent_cm</th>\n",
       "      <th>Child_cm</th>\n",
       "    </tr>\n",
       "  </thead>\n",
       "  <tbody>\n",
       "    <tr>\n",
       "      <th>0</th>\n",
       "      <td>1</td>\n",
       "      <td>64.0</td>\n",
       "      <td>61.7</td>\n",
       "      <td>1</td>\n",
       "      <td>162.56</td>\n",
       "      <td>156.718</td>\n",
       "    </tr>\n",
       "    <tr>\n",
       "      <th>1</th>\n",
       "      <td>2</td>\n",
       "      <td>64.0</td>\n",
       "      <td>63.2</td>\n",
       "      <td>1</td>\n",
       "      <td>162.56</td>\n",
       "      <td>160.528</td>\n",
       "    </tr>\n",
       "    <tr>\n",
       "      <th>2</th>\n",
       "      <td>3</td>\n",
       "      <td>64.0</td>\n",
       "      <td>63.2</td>\n",
       "      <td>1</td>\n",
       "      <td>162.56</td>\n",
       "      <td>160.528</td>\n",
       "    </tr>\n",
       "    <tr>\n",
       "      <th>3</th>\n",
       "      <td>4</td>\n",
       "      <td>64.0</td>\n",
       "      <td>64.2</td>\n",
       "      <td>1</td>\n",
       "      <td>162.56</td>\n",
       "      <td>163.068</td>\n",
       "    </tr>\n",
       "    <tr>\n",
       "      <th>4</th>\n",
       "      <td>5</td>\n",
       "      <td>64.0</td>\n",
       "      <td>64.2</td>\n",
       "      <td>1</td>\n",
       "      <td>162.56</td>\n",
       "      <td>163.068</td>\n",
       "    </tr>\n",
       "  </tbody>\n",
       "</table>\n",
       "</div>"
      ],
      "text/plain": [
       "   id  Midparent  Child  Quartile  Midparent_cm  Child_cm\n",
       "0   1       64.0   61.7         1        162.56   156.718\n",
       "1   2       64.0   63.2         1        162.56   160.528\n",
       "2   3       64.0   63.2         1        162.56   160.528\n",
       "3   4       64.0   64.2         1        162.56   163.068\n",
       "4   5       64.0   64.2         1        162.56   163.068"
      ]
     },
     "execution_count": 14,
     "metadata": {},
     "output_type": "execute_result"
    }
   ],
   "source": [
    "df.head()"
   ]
  },
  {
   "cell_type": "code",
   "execution_count": 15,
   "metadata": {},
   "outputs": [
    {
     "data": {
      "text/plain": [
       "(928, 6)"
      ]
     },
     "execution_count": 15,
     "metadata": {},
     "output_type": "execute_result"
    }
   ],
   "source": [
    "df.shape"
   ]
  },
  {
   "cell_type": "code",
   "execution_count": 16,
   "metadata": {},
   "outputs": [],
   "source": [
    "df[\"xy\"] = df[\"Midparent_cm\"] * df[\"Child_cm\"]\n",
    "df[\"x^2\"] = df[\"Midparent_cm\"]**2"
   ]
  },
  {
   "cell_type": "code",
   "execution_count": 17,
   "metadata": {},
   "outputs": [
    {
     "data": {
      "text/html": [
       "<div>\n",
       "<style scoped>\n",
       "    .dataframe tbody tr th:only-of-type {\n",
       "        vertical-align: middle;\n",
       "    }\n",
       "\n",
       "    .dataframe tbody tr th {\n",
       "        vertical-align: top;\n",
       "    }\n",
       "\n",
       "    .dataframe thead th {\n",
       "        text-align: right;\n",
       "    }\n",
       "</style>\n",
       "<table border=\"1\" class=\"dataframe\">\n",
       "  <thead>\n",
       "    <tr style=\"text-align: right;\">\n",
       "      <th></th>\n",
       "      <th>id</th>\n",
       "      <th>Midparent</th>\n",
       "      <th>Child</th>\n",
       "      <th>Quartile</th>\n",
       "      <th>Midparent_cm</th>\n",
       "      <th>Child_cm</th>\n",
       "      <th>xy</th>\n",
       "      <th>x^2</th>\n",
       "    </tr>\n",
       "  </thead>\n",
       "  <tbody>\n",
       "    <tr>\n",
       "      <th>0</th>\n",
       "      <td>1</td>\n",
       "      <td>64.0</td>\n",
       "      <td>61.7</td>\n",
       "      <td>1</td>\n",
       "      <td>162.56</td>\n",
       "      <td>156.718</td>\n",
       "      <td>25476.07808</td>\n",
       "      <td>26425.7536</td>\n",
       "    </tr>\n",
       "    <tr>\n",
       "      <th>1</th>\n",
       "      <td>2</td>\n",
       "      <td>64.0</td>\n",
       "      <td>63.2</td>\n",
       "      <td>1</td>\n",
       "      <td>162.56</td>\n",
       "      <td>160.528</td>\n",
       "      <td>26095.43168</td>\n",
       "      <td>26425.7536</td>\n",
       "    </tr>\n",
       "    <tr>\n",
       "      <th>2</th>\n",
       "      <td>3</td>\n",
       "      <td>64.0</td>\n",
       "      <td>63.2</td>\n",
       "      <td>1</td>\n",
       "      <td>162.56</td>\n",
       "      <td>160.528</td>\n",
       "      <td>26095.43168</td>\n",
       "      <td>26425.7536</td>\n",
       "    </tr>\n",
       "    <tr>\n",
       "      <th>3</th>\n",
       "      <td>4</td>\n",
       "      <td>64.0</td>\n",
       "      <td>64.2</td>\n",
       "      <td>1</td>\n",
       "      <td>162.56</td>\n",
       "      <td>163.068</td>\n",
       "      <td>26508.33408</td>\n",
       "      <td>26425.7536</td>\n",
       "    </tr>\n",
       "    <tr>\n",
       "      <th>4</th>\n",
       "      <td>5</td>\n",
       "      <td>64.0</td>\n",
       "      <td>64.2</td>\n",
       "      <td>1</td>\n",
       "      <td>162.56</td>\n",
       "      <td>163.068</td>\n",
       "      <td>26508.33408</td>\n",
       "      <td>26425.7536</td>\n",
       "    </tr>\n",
       "  </tbody>\n",
       "</table>\n",
       "</div>"
      ],
      "text/plain": [
       "   id  Midparent  Child  Quartile  Midparent_cm  Child_cm           xy  \\\n",
       "0   1       64.0   61.7         1        162.56   156.718  25476.07808   \n",
       "1   2       64.0   63.2         1        162.56   160.528  26095.43168   \n",
       "2   3       64.0   63.2         1        162.56   160.528  26095.43168   \n",
       "3   4       64.0   64.2         1        162.56   163.068  26508.33408   \n",
       "4   5       64.0   64.2         1        162.56   163.068  26508.33408   \n",
       "\n",
       "          x^2  \n",
       "0  26425.7536  \n",
       "1  26425.7536  \n",
       "2  26425.7536  \n",
       "3  26425.7536  \n",
       "4  26425.7536  "
      ]
     },
     "execution_count": 17,
     "metadata": {},
     "output_type": "execute_result"
    }
   ],
   "source": [
    "df.head()"
   ]
  },
  {
   "cell_type": "code",
   "execution_count": 18,
   "metadata": {},
   "outputs": [
    {
     "name": "stdout",
     "output_type": "stream",
     "text": [
      "11458667.405128479\n"
     ]
    }
   ],
   "source": [
    "m_numerador = (df.shape[0]*sum(df[\"xy\"])) - (sum(df[\"Midparent_cm\"]) * sum(df[\"Child_cm\"]))\n",
    "print(m_numerador)"
   ]
  },
  {
   "cell_type": "code",
   "execution_count": 19,
   "metadata": {},
   "outputs": [
    {
     "name": "stdout",
     "output_type": "stream",
     "text": [
      "17729900.023792267\n"
     ]
    }
   ],
   "source": [
    "m_denominador = (df.shape[0]*sum(df[\"x^2\"])) - (sum(df[\"Midparent_cm\"])**2)\n",
    "print(m_denominador)"
   ]
  },
  {
   "cell_type": "code",
   "execution_count": 20,
   "metadata": {},
   "outputs": [
    {
     "name": "stdout",
     "output_type": "stream",
     "text": [
      "0.6462905819971777\n"
     ]
    }
   ],
   "source": [
    "m = m_numerador/m_denominador\n",
    "print(m)"
   ]
  },
  {
   "cell_type": "code",
   "execution_count": 21,
   "metadata": {},
   "outputs": [
    {
     "name": "stdout",
     "output_type": "stream",
     "text": [
      "60.81148665763481\n"
     ]
    }
   ],
   "source": [
    "b = (sum(df[\"Child_cm\"]) - m*sum(df[\"Midparent_cm\"])) / df.shape[0]\n",
    "print(b)"
   ]
  },
  {
   "cell_type": "code",
   "execution_count": 22,
   "metadata": {},
   "outputs": [],
   "source": [
    "X = 185"
   ]
  },
  {
   "cell_type": "code",
   "execution_count": 23,
   "metadata": {},
   "outputs": [
    {
     "name": "stdout",
     "output_type": "stream",
     "text": [
      "180.37524432711268\n"
     ]
    }
   ],
   "source": [
    "Y = m*X + b\n",
    "print(Y)"
   ]
  },
  {
   "cell_type": "markdown",
   "metadata": {
    "vscode": {
     "languageId": "html"
    }
   },
   "source": [
    "<img src=\"./MicrosoftTeams-image.png\">"
   ]
  },
  {
   "cell_type": "code",
   "execution_count": 24,
   "metadata": {},
   "outputs": [
    {
     "name": "stdout",
     "output_type": "stream",
     "text": [
      "173.50280172413792\n",
      "172.944713362069\n"
     ]
    }
   ],
   "source": [
    "x_prom = np.mean(df[\"Midparent_cm\"])\n",
    "print(x_prom)\n",
    "y_prom = np.mean(df[\"Child_cm\"])\n",
    "print(y_prom)"
   ]
  },
  {
   "cell_type": "code",
   "execution_count": 25,
   "metadata": {},
   "outputs": [],
   "source": [
    "df[\"x-x_prom\"] = df[\"Midparent_cm\"] - x_prom\n",
    "df[\"y-y_prom\"] = df[\"Child_cm\"] - y_prom"
   ]
  },
  {
   "cell_type": "code",
   "execution_count": 26,
   "metadata": {},
   "outputs": [
    {
     "name": "stdout",
     "output_type": "stream",
     "text": [
      "12347.701945258668\n"
     ]
    }
   ],
   "source": [
    "theta_1_numerador = sum(df[\"x-x_prom\"]*df[\"y-y_prom\"])\n",
    "print(theta_1_numerador)"
   ]
  },
  {
   "cell_type": "code",
   "execution_count": 27,
   "metadata": {},
   "outputs": [
    {
     "name": "stdout",
     "output_type": "stream",
     "text": [
      "19105.49571551736\n"
     ]
    }
   ],
   "source": [
    "theta_1_denumerador = sum(df[\"x-x_prom\"]**2)\n",
    "print(theta_1_denumerador)"
   ]
  },
  {
   "cell_type": "code",
   "execution_count": 28,
   "metadata": {},
   "outputs": [
    {
     "name": "stdout",
     "output_type": "stream",
     "text": [
      "0.6462905819936378\n"
     ]
    }
   ],
   "source": [
    "theta_1 = theta_1_numerador / theta_1_denumerador\n",
    "print(theta_1)"
   ]
  },
  {
   "cell_type": "code",
   "execution_count": 29,
   "metadata": {},
   "outputs": [
    {
     "name": "stdout",
     "output_type": "stream",
     "text": [
      "60.811486658249166\n"
     ]
    }
   ],
   "source": [
    "theta_0 = y_prom - theta_1*x_prom\n",
    "print(theta_0)"
   ]
  },
  {
   "cell_type": "code",
   "execution_count": 30,
   "metadata": {},
   "outputs": [
    {
     "name": "stdout",
     "output_type": "stream",
     "text": [
      "180.37524432707215\n"
     ]
    }
   ],
   "source": [
    "y_gorro = theta_0 + theta_1 * X\n",
    "print(y_gorro)"
   ]
  },
  {
   "cell_type": "code",
   "execution_count": 31,
   "metadata": {},
   "outputs": [],
   "source": [
    "from sklearn.linear_model import LinearRegression\n",
    "regr = LinearRegression()"
   ]
  },
  {
   "cell_type": "code",
   "execution_count": 32,
   "metadata": {},
   "outputs": [
    {
     "data": {
      "text/html": [
       "<style>#sk-container-id-1 {color: black;background-color: white;}#sk-container-id-1 pre{padding: 0;}#sk-container-id-1 div.sk-toggleable {background-color: white;}#sk-container-id-1 label.sk-toggleable__label {cursor: pointer;display: block;width: 100%;margin-bottom: 0;padding: 0.3em;box-sizing: border-box;text-align: center;}#sk-container-id-1 label.sk-toggleable__label-arrow:before {content: \"▸\";float: left;margin-right: 0.25em;color: #696969;}#sk-container-id-1 label.sk-toggleable__label-arrow:hover:before {color: black;}#sk-container-id-1 div.sk-estimator:hover label.sk-toggleable__label-arrow:before {color: black;}#sk-container-id-1 div.sk-toggleable__content {max-height: 0;max-width: 0;overflow: hidden;text-align: left;background-color: #f0f8ff;}#sk-container-id-1 div.sk-toggleable__content pre {margin: 0.2em;color: black;border-radius: 0.25em;background-color: #f0f8ff;}#sk-container-id-1 input.sk-toggleable__control:checked~div.sk-toggleable__content {max-height: 200px;max-width: 100%;overflow: auto;}#sk-container-id-1 input.sk-toggleable__control:checked~label.sk-toggleable__label-arrow:before {content: \"▾\";}#sk-container-id-1 div.sk-estimator input.sk-toggleable__control:checked~label.sk-toggleable__label {background-color: #d4ebff;}#sk-container-id-1 div.sk-label input.sk-toggleable__control:checked~label.sk-toggleable__label {background-color: #d4ebff;}#sk-container-id-1 input.sk-hidden--visually {border: 0;clip: rect(1px 1px 1px 1px);clip: rect(1px, 1px, 1px, 1px);height: 1px;margin: -1px;overflow: hidden;padding: 0;position: absolute;width: 1px;}#sk-container-id-1 div.sk-estimator {font-family: monospace;background-color: #f0f8ff;border: 1px dotted black;border-radius: 0.25em;box-sizing: border-box;margin-bottom: 0.5em;}#sk-container-id-1 div.sk-estimator:hover {background-color: #d4ebff;}#sk-container-id-1 div.sk-parallel-item::after {content: \"\";width: 100%;border-bottom: 1px solid gray;flex-grow: 1;}#sk-container-id-1 div.sk-label:hover label.sk-toggleable__label {background-color: #d4ebff;}#sk-container-id-1 div.sk-serial::before {content: \"\";position: absolute;border-left: 1px solid gray;box-sizing: border-box;top: 0;bottom: 0;left: 50%;z-index: 0;}#sk-container-id-1 div.sk-serial {display: flex;flex-direction: column;align-items: center;background-color: white;padding-right: 0.2em;padding-left: 0.2em;position: relative;}#sk-container-id-1 div.sk-item {position: relative;z-index: 1;}#sk-container-id-1 div.sk-parallel {display: flex;align-items: stretch;justify-content: center;background-color: white;position: relative;}#sk-container-id-1 div.sk-item::before, #sk-container-id-1 div.sk-parallel-item::before {content: \"\";position: absolute;border-left: 1px solid gray;box-sizing: border-box;top: 0;bottom: 0;left: 50%;z-index: -1;}#sk-container-id-1 div.sk-parallel-item {display: flex;flex-direction: column;z-index: 1;position: relative;background-color: white;}#sk-container-id-1 div.sk-parallel-item:first-child::after {align-self: flex-end;width: 50%;}#sk-container-id-1 div.sk-parallel-item:last-child::after {align-self: flex-start;width: 50%;}#sk-container-id-1 div.sk-parallel-item:only-child::after {width: 0;}#sk-container-id-1 div.sk-dashed-wrapped {border: 1px dashed gray;margin: 0 0.4em 0.5em 0.4em;box-sizing: border-box;padding-bottom: 0.4em;background-color: white;}#sk-container-id-1 div.sk-label label {font-family: monospace;font-weight: bold;display: inline-block;line-height: 1.2em;}#sk-container-id-1 div.sk-label-container {text-align: center;}#sk-container-id-1 div.sk-container {/* jupyter's `normalize.less` sets `[hidden] { display: none; }` but bootstrap.min.css set `[hidden] { display: none !important; }` so we also need the `!important` here to be able to override the default hidden behavior on the sphinx rendered scikit-learn.org. See: https://github.com/scikit-learn/scikit-learn/issues/21755 */display: inline-block !important;position: relative;}#sk-container-id-1 div.sk-text-repr-fallback {display: none;}</style><div id=\"sk-container-id-1\" class=\"sk-top-container\"><div class=\"sk-text-repr-fallback\"><pre>LinearRegression()</pre><b>In a Jupyter environment, please rerun this cell to show the HTML representation or trust the notebook. <br />On GitHub, the HTML representation is unable to render, please try loading this page with nbviewer.org.</b></div><div class=\"sk-container\" hidden><div class=\"sk-item\"><div class=\"sk-estimator sk-toggleable\"><input class=\"sk-toggleable__control sk-hidden--visually\" id=\"sk-estimator-id-1\" type=\"checkbox\" checked><label for=\"sk-estimator-id-1\" class=\"sk-toggleable__label sk-toggleable__label-arrow\">LinearRegression</label><div class=\"sk-toggleable__content\"><pre>LinearRegression()</pre></div></div></div></div></div>"
      ],
      "text/plain": [
       "LinearRegression()"
      ]
     },
     "execution_count": 32,
     "metadata": {},
     "output_type": "execute_result"
    }
   ],
   "source": [
    "regr.fit(df[[\"Midparent_cm\"]],df[\"Child_cm\"])"
   ]
  },
  {
   "cell_type": "code",
   "execution_count": 33,
   "metadata": {},
   "outputs": [
    {
     "name": "stdout",
     "output_type": "stream",
     "text": [
      "m: [0.64629058]\n"
     ]
    }
   ],
   "source": [
    "print(\"m:\", regr.coef_)"
   ]
  },
  {
   "cell_type": "code",
   "execution_count": 34,
   "metadata": {},
   "outputs": [
    {
     "name": "stdout",
     "output_type": "stream",
     "text": [
      "b: 60.81148665824871\n"
     ]
    }
   ],
   "source": [
    "print(\"b:\", regr.intercept_)"
   ]
  },
  {
   "cell_type": "code",
   "execution_count": 35,
   "metadata": {},
   "outputs": [
    {
     "name": "stdout",
     "output_type": "stream",
     "text": [
      "[180.37524433]\n"
     ]
    }
   ],
   "source": [
    "y_gorro = regr.coef_*X + regr.intercept_\n",
    "print(y_gorro)"
   ]
  },
  {
   "cell_type": "code",
   "execution_count": 36,
   "metadata": {},
   "outputs": [
    {
     "data": {
      "image/png": "[encoded data removed]",
      "text/plain": [
       "<Figure size 640x480 with 1 Axes>"
      ]
     },
     "metadata": {},
     "output_type": "display_data"
    }
   ],
   "source": [
    "plt.scatter(df[\"Midparent_cm\"], df[\"Child_cm\"], color=\"blue\")\n",
    "plt.xlabel(\"Altura padres\")\n",
    "plt.ylabel(\"Altura Hijos\")\n",
    "plt.show()"
   ]
  },
  {
   "cell_type": "code",
   "execution_count": 37,
   "metadata": {},
   "outputs": [
    {
     "name": "stdout",
     "output_type": "stream",
     "text": [
      "[[1.         0.45876237]\n",
      " [0.45876237 1.        ]]\n"
     ]
    }
   ],
   "source": [
    "print(np.corrcoef(df[\"Midparent_cm\"], df[\"Child_cm\"]))"
   ]
  },
  {
   "cell_type": "code",
   "execution_count": 41,
   "metadata": {},
   "outputs": [
    {
     "data": {
      "text/html": [
       "<div>\n",
       "<style scoped>\n",
       "    .dataframe tbody tr th:only-of-type {\n",
       "        vertical-align: middle;\n",
       "    }\n",
       "\n",
       "    .dataframe tbody tr th {\n",
       "        vertical-align: top;\n",
       "    }\n",
       "\n",
       "    .dataframe thead th {\n",
       "        text-align: right;\n",
       "    }\n",
       "</style>\n",
       "<table border=\"1\" class=\"dataframe\">\n",
       "  <thead>\n",
       "    <tr style=\"text-align: right;\">\n",
       "      <th></th>\n",
       "      <th>id</th>\n",
       "      <th>Midparent</th>\n",
       "      <th>Child</th>\n",
       "      <th>Quartile</th>\n",
       "      <th>Midparent_cm</th>\n",
       "      <th>Child_cm</th>\n",
       "      <th>xy</th>\n",
       "      <th>x^2</th>\n",
       "      <th>x-x_prom</th>\n",
       "      <th>y-y_prom</th>\n",
       "      <th>predict</th>\n",
       "      <th>residual</th>\n",
       "    </tr>\n",
       "  </thead>\n",
       "  <tbody>\n",
       "    <tr>\n",
       "      <th>0</th>\n",
       "      <td>1</td>\n",
       "      <td>64.0</td>\n",
       "      <td>61.7</td>\n",
       "      <td>1</td>\n",
       "      <td>162.56</td>\n",
       "      <td>156.718</td>\n",
       "      <td>25476.07808</td>\n",
       "      <td>26425.7536</td>\n",
       "      <td>-10.942802</td>\n",
       "      <td>-16.226713</td>\n",
       "      <td>165.872484</td>\n",
       "      <td>-9.154484</td>\n",
       "    </tr>\n",
       "    <tr>\n",
       "      <th>1</th>\n",
       "      <td>2</td>\n",
       "      <td>64.0</td>\n",
       "      <td>63.2</td>\n",
       "      <td>1</td>\n",
       "      <td>162.56</td>\n",
       "      <td>160.528</td>\n",
       "      <td>26095.43168</td>\n",
       "      <td>26425.7536</td>\n",
       "      <td>-10.942802</td>\n",
       "      <td>-12.416713</td>\n",
       "      <td>165.872484</td>\n",
       "      <td>-5.344484</td>\n",
       "    </tr>\n",
       "    <tr>\n",
       "      <th>2</th>\n",
       "      <td>3</td>\n",
       "      <td>64.0</td>\n",
       "      <td>63.2</td>\n",
       "      <td>1</td>\n",
       "      <td>162.56</td>\n",
       "      <td>160.528</td>\n",
       "      <td>26095.43168</td>\n",
       "      <td>26425.7536</td>\n",
       "      <td>-10.942802</td>\n",
       "      <td>-12.416713</td>\n",
       "      <td>165.872484</td>\n",
       "      <td>-5.344484</td>\n",
       "    </tr>\n",
       "    <tr>\n",
       "      <th>3</th>\n",
       "      <td>4</td>\n",
       "      <td>64.0</td>\n",
       "      <td>64.2</td>\n",
       "      <td>1</td>\n",
       "      <td>162.56</td>\n",
       "      <td>163.068</td>\n",
       "      <td>26508.33408</td>\n",
       "      <td>26425.7536</td>\n",
       "      <td>-10.942802</td>\n",
       "      <td>-9.876713</td>\n",
       "      <td>165.872484</td>\n",
       "      <td>-2.804484</td>\n",
       "    </tr>\n",
       "    <tr>\n",
       "      <th>4</th>\n",
       "      <td>5</td>\n",
       "      <td>64.0</td>\n",
       "      <td>64.2</td>\n",
       "      <td>1</td>\n",
       "      <td>162.56</td>\n",
       "      <td>163.068</td>\n",
       "      <td>26508.33408</td>\n",
       "      <td>26425.7536</td>\n",
       "      <td>-10.942802</td>\n",
       "      <td>-9.876713</td>\n",
       "      <td>165.872484</td>\n",
       "      <td>-2.804484</td>\n",
       "    </tr>\n",
       "  </tbody>\n",
       "</table>\n",
       "</div>"
      ],
      "text/plain": [
       "   id  Midparent  Child  Quartile  Midparent_cm  Child_cm           xy  \\\n",
       "0   1       64.0   61.7         1        162.56   156.718  25476.07808   \n",
       "1   2       64.0   63.2         1        162.56   160.528  26095.43168   \n",
       "2   3       64.0   63.2         1        162.56   160.528  26095.43168   \n",
       "3   4       64.0   64.2         1        162.56   163.068  26508.33408   \n",
       "4   5       64.0   64.2         1        162.56   163.068  26508.33408   \n",
       "\n",
       "          x^2   x-x_prom   y-y_prom     predict  residual  \n",
       "0  26425.7536 -10.942802 -16.226713  165.872484 -9.154484  \n",
       "1  26425.7536 -10.942802 -12.416713  165.872484 -5.344484  \n",
       "2  26425.7536 -10.942802 -12.416713  165.872484 -5.344484  \n",
       "3  26425.7536 -10.942802  -9.876713  165.872484 -2.804484  \n",
       "4  26425.7536 -10.942802  -9.876713  165.872484 -2.804484  "
      ]
     },
     "execution_count": 41,
     "metadata": {},
     "output_type": "execute_result"
    }
   ],
   "source": [
    "df.head()"
   ]
  },
  {
   "cell_type": "code",
   "execution_count": 38,
   "metadata": {},
   "outputs": [],
   "source": [
    "df[\"predict\"]=regr.predict(df[[\"Midparent_cm\"]])"
   ]
  },
  {
   "cell_type": "code",
   "execution_count": 39,
   "metadata": {},
   "outputs": [],
   "source": [
    "df[\"residual\"]=df[\"Child_cm\"]-df[\"predict\"]"
   ]
  },
  {
   "cell_type": "code",
   "execution_count": 40,
   "metadata": {},
   "outputs": [
    {
     "data": {
      "text/html": [
       "<div>\n",
       "<style scoped>\n",
       "    .dataframe tbody tr th:only-of-type {\n",
       "        vertical-align: middle;\n",
       "    }\n",
       "\n",
       "    .dataframe tbody tr th {\n",
       "        vertical-align: top;\n",
       "    }\n",
       "\n",
       "    .dataframe thead th {\n",
       "        text-align: right;\n",
       "    }\n",
       "</style>\n",
       "<table border=\"1\" class=\"dataframe\">\n",
       "  <thead>\n",
       "    <tr style=\"text-align: right;\">\n",
       "      <th></th>\n",
       "      <th>id</th>\n",
       "      <th>Midparent</th>\n",
       "      <th>Child</th>\n",
       "      <th>Quartile</th>\n",
       "      <th>Midparent_cm</th>\n",
       "      <th>Child_cm</th>\n",
       "      <th>xy</th>\n",
       "      <th>x^2</th>\n",
       "      <th>x-x_prom</th>\n",
       "      <th>y-y_prom</th>\n",
       "      <th>predict</th>\n",
       "      <th>residual</th>\n",
       "    </tr>\n",
       "  </thead>\n",
       "  <tbody>\n",
       "    <tr>\n",
       "      <th>0</th>\n",
       "      <td>1</td>\n",
       "      <td>64.0</td>\n",
       "      <td>61.7</td>\n",
       "      <td>1</td>\n",
       "      <td>162.56</td>\n",
       "      <td>156.718</td>\n",
       "      <td>25476.07808</td>\n",
       "      <td>26425.7536</td>\n",
       "      <td>-10.942802</td>\n",
       "      <td>-16.226713</td>\n",
       "      <td>165.872484</td>\n",
       "      <td>-9.154484</td>\n",
       "    </tr>\n",
       "    <tr>\n",
       "      <th>1</th>\n",
       "      <td>2</td>\n",
       "      <td>64.0</td>\n",
       "      <td>63.2</td>\n",
       "      <td>1</td>\n",
       "      <td>162.56</td>\n",
       "      <td>160.528</td>\n",
       "      <td>26095.43168</td>\n",
       "      <td>26425.7536</td>\n",
       "      <td>-10.942802</td>\n",
       "      <td>-12.416713</td>\n",
       "      <td>165.872484</td>\n",
       "      <td>-5.344484</td>\n",
       "    </tr>\n",
       "    <tr>\n",
       "      <th>2</th>\n",
       "      <td>3</td>\n",
       "      <td>64.0</td>\n",
       "      <td>63.2</td>\n",
       "      <td>1</td>\n",
       "      <td>162.56</td>\n",
       "      <td>160.528</td>\n",
       "      <td>26095.43168</td>\n",
       "      <td>26425.7536</td>\n",
       "      <td>-10.942802</td>\n",
       "      <td>-12.416713</td>\n",
       "      <td>165.872484</td>\n",
       "      <td>-5.344484</td>\n",
       "    </tr>\n",
       "    <tr>\n",
       "      <th>3</th>\n",
       "      <td>4</td>\n",
       "      <td>64.0</td>\n",
       "      <td>64.2</td>\n",
       "      <td>1</td>\n",
       "      <td>162.56</td>\n",
       "      <td>163.068</td>\n",
       "      <td>26508.33408</td>\n",
       "      <td>26425.7536</td>\n",
       "      <td>-10.942802</td>\n",
       "      <td>-9.876713</td>\n",
       "      <td>165.872484</td>\n",
       "      <td>-2.804484</td>\n",
       "    </tr>\n",
       "    <tr>\n",
       "      <th>4</th>\n",
       "      <td>5</td>\n",
       "      <td>64.0</td>\n",
       "      <td>64.2</td>\n",
       "      <td>1</td>\n",
       "      <td>162.56</td>\n",
       "      <td>163.068</td>\n",
       "      <td>26508.33408</td>\n",
       "      <td>26425.7536</td>\n",
       "      <td>-10.942802</td>\n",
       "      <td>-9.876713</td>\n",
       "      <td>165.872484</td>\n",
       "      <td>-2.804484</td>\n",
       "    </tr>\n",
       "    <tr>\n",
       "      <th>5</th>\n",
       "      <td>6</td>\n",
       "      <td>64.0</td>\n",
       "      <td>64.2</td>\n",
       "      <td>1</td>\n",
       "      <td>162.56</td>\n",
       "      <td>163.068</td>\n",
       "      <td>26508.33408</td>\n",
       "      <td>26425.7536</td>\n",
       "      <td>-10.942802</td>\n",
       "      <td>-9.876713</td>\n",
       "      <td>165.872484</td>\n",
       "      <td>-2.804484</td>\n",
       "    </tr>\n",
       "    <tr>\n",
       "      <th>6</th>\n",
       "      <td>7</td>\n",
       "      <td>64.0</td>\n",
       "      <td>64.2</td>\n",
       "      <td>1</td>\n",
       "      <td>162.56</td>\n",
       "      <td>163.068</td>\n",
       "      <td>26508.33408</td>\n",
       "      <td>26425.7536</td>\n",
       "      <td>-10.942802</td>\n",
       "      <td>-9.876713</td>\n",
       "      <td>165.872484</td>\n",
       "      <td>-2.804484</td>\n",
       "    </tr>\n",
       "    <tr>\n",
       "      <th>7</th>\n",
       "      <td>8</td>\n",
       "      <td>64.0</td>\n",
       "      <td>65.2</td>\n",
       "      <td>1</td>\n",
       "      <td>162.56</td>\n",
       "      <td>165.608</td>\n",
       "      <td>26921.23648</td>\n",
       "      <td>26425.7536</td>\n",
       "      <td>-10.942802</td>\n",
       "      <td>-7.336713</td>\n",
       "      <td>165.872484</td>\n",
       "      <td>-0.264484</td>\n",
       "    </tr>\n",
       "    <tr>\n",
       "      <th>8</th>\n",
       "      <td>9</td>\n",
       "      <td>64.0</td>\n",
       "      <td>66.2</td>\n",
       "      <td>1</td>\n",
       "      <td>162.56</td>\n",
       "      <td>168.148</td>\n",
       "      <td>27334.13888</td>\n",
       "      <td>26425.7536</td>\n",
       "      <td>-10.942802</td>\n",
       "      <td>-4.796713</td>\n",
       "      <td>165.872484</td>\n",
       "      <td>2.275516</td>\n",
       "    </tr>\n",
       "    <tr>\n",
       "      <th>9</th>\n",
       "      <td>10</td>\n",
       "      <td>64.0</td>\n",
       "      <td>66.2</td>\n",
       "      <td>1</td>\n",
       "      <td>162.56</td>\n",
       "      <td>168.148</td>\n",
       "      <td>27334.13888</td>\n",
       "      <td>26425.7536</td>\n",
       "      <td>-10.942802</td>\n",
       "      <td>-4.796713</td>\n",
       "      <td>165.872484</td>\n",
       "      <td>2.275516</td>\n",
       "    </tr>\n",
       "    <tr>\n",
       "      <th>10</th>\n",
       "      <td>11</td>\n",
       "      <td>64.0</td>\n",
       "      <td>67.2</td>\n",
       "      <td>1</td>\n",
       "      <td>162.56</td>\n",
       "      <td>170.688</td>\n",
       "      <td>27747.04128</td>\n",
       "      <td>26425.7536</td>\n",
       "      <td>-10.942802</td>\n",
       "      <td>-2.256713</td>\n",
       "      <td>165.872484</td>\n",
       "      <td>4.815516</td>\n",
       "    </tr>\n",
       "    <tr>\n",
       "      <th>11</th>\n",
       "      <td>12</td>\n",
       "      <td>64.0</td>\n",
       "      <td>67.2</td>\n",
       "      <td>1</td>\n",
       "      <td>162.56</td>\n",
       "      <td>170.688</td>\n",
       "      <td>27747.04128</td>\n",
       "      <td>26425.7536</td>\n",
       "      <td>-10.942802</td>\n",
       "      <td>-2.256713</td>\n",
       "      <td>165.872484</td>\n",
       "      <td>4.815516</td>\n",
       "    </tr>\n",
       "    <tr>\n",
       "      <th>12</th>\n",
       "      <td>13</td>\n",
       "      <td>64.0</td>\n",
       "      <td>68.2</td>\n",
       "      <td>1</td>\n",
       "      <td>162.56</td>\n",
       "      <td>173.228</td>\n",
       "      <td>28159.94368</td>\n",
       "      <td>26425.7536</td>\n",
       "      <td>-10.942802</td>\n",
       "      <td>0.283287</td>\n",
       "      <td>165.872484</td>\n",
       "      <td>7.355516</td>\n",
       "    </tr>\n",
       "    <tr>\n",
       "      <th>13</th>\n",
       "      <td>14</td>\n",
       "      <td>64.0</td>\n",
       "      <td>69.2</td>\n",
       "      <td>1</td>\n",
       "      <td>162.56</td>\n",
       "      <td>175.768</td>\n",
       "      <td>28572.84608</td>\n",
       "      <td>26425.7536</td>\n",
       "      <td>-10.942802</td>\n",
       "      <td>2.823287</td>\n",
       "      <td>165.872484</td>\n",
       "      <td>9.895516</td>\n",
       "    </tr>\n",
       "    <tr>\n",
       "      <th>14</th>\n",
       "      <td>15</td>\n",
       "      <td>64.5</td>\n",
       "      <td>61.7</td>\n",
       "      <td>1</td>\n",
       "      <td>163.83</td>\n",
       "      <td>156.718</td>\n",
       "      <td>25675.10994</td>\n",
       "      <td>26840.2689</td>\n",
       "      <td>-9.672802</td>\n",
       "      <td>-16.226713</td>\n",
       "      <td>166.693273</td>\n",
       "      <td>-9.975273</td>\n",
       "    </tr>\n",
       "    <tr>\n",
       "      <th>15</th>\n",
       "      <td>16</td>\n",
       "      <td>64.5</td>\n",
       "      <td>62.2</td>\n",
       "      <td>1</td>\n",
       "      <td>163.83</td>\n",
       "      <td>157.988</td>\n",
       "      <td>25883.17404</td>\n",
       "      <td>26840.2689</td>\n",
       "      <td>-9.672802</td>\n",
       "      <td>-14.956713</td>\n",
       "      <td>166.693273</td>\n",
       "      <td>-8.705273</td>\n",
       "    </tr>\n",
       "    <tr>\n",
       "      <th>16</th>\n",
       "      <td>17</td>\n",
       "      <td>64.5</td>\n",
       "      <td>63.2</td>\n",
       "      <td>1</td>\n",
       "      <td>163.83</td>\n",
       "      <td>160.528</td>\n",
       "      <td>26299.30224</td>\n",
       "      <td>26840.2689</td>\n",
       "      <td>-9.672802</td>\n",
       "      <td>-12.416713</td>\n",
       "      <td>166.693273</td>\n",
       "      <td>-6.165273</td>\n",
       "    </tr>\n",
       "    <tr>\n",
       "      <th>17</th>\n",
       "      <td>18</td>\n",
       "      <td>64.5</td>\n",
       "      <td>63.2</td>\n",
       "      <td>1</td>\n",
       "      <td>163.83</td>\n",
       "      <td>160.528</td>\n",
       "      <td>26299.30224</td>\n",
       "      <td>26840.2689</td>\n",
       "      <td>-9.672802</td>\n",
       "      <td>-12.416713</td>\n",
       "      <td>166.693273</td>\n",
       "      <td>-6.165273</td>\n",
       "    </tr>\n",
       "    <tr>\n",
       "      <th>18</th>\n",
       "      <td>19</td>\n",
       "      <td>64.5</td>\n",
       "      <td>63.2</td>\n",
       "      <td>1</td>\n",
       "      <td>163.83</td>\n",
       "      <td>160.528</td>\n",
       "      <td>26299.30224</td>\n",
       "      <td>26840.2689</td>\n",
       "      <td>-9.672802</td>\n",
       "      <td>-12.416713</td>\n",
       "      <td>166.693273</td>\n",
       "      <td>-6.165273</td>\n",
       "    </tr>\n",
       "    <tr>\n",
       "      <th>19</th>\n",
       "      <td>20</td>\n",
       "      <td>64.5</td>\n",
       "      <td>63.2</td>\n",
       "      <td>1</td>\n",
       "      <td>163.83</td>\n",
       "      <td>160.528</td>\n",
       "      <td>26299.30224</td>\n",
       "      <td>26840.2689</td>\n",
       "      <td>-9.672802</td>\n",
       "      <td>-12.416713</td>\n",
       "      <td>166.693273</td>\n",
       "      <td>-6.165273</td>\n",
       "    </tr>\n",
       "  </tbody>\n",
       "</table>\n",
       "</div>"
      ],
      "text/plain": [
       "    id  Midparent  Child  Quartile  Midparent_cm  Child_cm           xy  \\\n",
       "0    1       64.0   61.7         1        162.56   156.718  25476.07808   \n",
       "1    2       64.0   63.2         1        162.56   160.528  26095.43168   \n",
       "2    3       64.0   63.2         1        162.56   160.528  26095.43168   \n",
       "3    4       64.0   64.2         1        162.56   163.068  26508.33408   \n",
       "4    5       64.0   64.2         1        162.56   163.068  26508.33408   \n",
       "5    6       64.0   64.2         1        162.56   163.068  26508.33408   \n",
       "6    7       64.0   64.2         1        162.56   163.068  26508.33408   \n",
       "7    8       64.0   65.2         1        162.56   165.608  26921.23648   \n",
       "8    9       64.0   66.2         1        162.56   168.148  27334.13888   \n",
       "9   10       64.0   66.2         1        162.56   168.148  27334.13888   \n",
       "10  11       64.0   67.2         1        162.56   170.688  27747.04128   \n",
       "11  12       64.0   67.2         1        162.56   170.688  27747.04128   \n",
       "12  13       64.0   68.2         1        162.56   173.228  28159.94368   \n",
       "13  14       64.0   69.2         1        162.56   175.768  28572.84608   \n",
       "14  15       64.5   61.7         1        163.83   156.718  25675.10994   \n",
       "15  16       64.5   62.2         1        163.83   157.988  25883.17404   \n",
       "16  17       64.5   63.2         1        163.83   160.528  26299.30224   \n",
       "17  18       64.5   63.2         1        163.83   160.528  26299.30224   \n",
       "18  19       64.5   63.2         1        163.83   160.528  26299.30224   \n",
       "19  20       64.5   63.2         1        163.83   160.528  26299.30224   \n",
       "\n",
       "           x^2   x-x_prom   y-y_prom     predict  residual  \n",
       "0   26425.7536 -10.942802 -16.226713  165.872484 -9.154484  \n",
       "1   26425.7536 -10.942802 -12.416713  165.872484 -5.344484  \n",
       "2   26425.7536 -10.942802 -12.416713  165.872484 -5.344484  \n",
       "3   26425.7536 -10.942802  -9.876713  165.872484 -2.804484  \n",
       "4   26425.7536 -10.942802  -9.876713  165.872484 -2.804484  \n",
       "5   26425.7536 -10.942802  -9.876713  165.872484 -2.804484  \n",
       "6   26425.7536 -10.942802  -9.876713  165.872484 -2.804484  \n",
       "7   26425.7536 -10.942802  -7.336713  165.872484 -0.264484  \n",
       "8   26425.7536 -10.942802  -4.796713  165.872484  2.275516  \n",
       "9   26425.7536 -10.942802  -4.796713  165.872484  2.275516  \n",
       "10  26425.7536 -10.942802  -2.256713  165.872484  4.815516  \n",
       "11  26425.7536 -10.942802  -2.256713  165.872484  4.815516  \n",
       "12  26425.7536 -10.942802   0.283287  165.872484  7.355516  \n",
       "13  26425.7536 -10.942802   2.823287  165.872484  9.895516  \n",
       "14  26840.2689  -9.672802 -16.226713  166.693273 -9.975273  \n",
       "15  26840.2689  -9.672802 -14.956713  166.693273 -8.705273  \n",
       "16  26840.2689  -9.672802 -12.416713  166.693273 -6.165273  \n",
       "17  26840.2689  -9.672802 -12.416713  166.693273 -6.165273  \n",
       "18  26840.2689  -9.672802 -12.416713  166.693273 -6.165273  \n",
       "19  26840.2689  -9.672802 -12.416713  166.693273 -6.165273  "
      ]
     },
     "execution_count": 40,
     "metadata": {},
     "output_type": "execute_result"
    }
   ],
   "source": [
    "df.head(20)"
   ]
  },
  {
   "cell_type": "code",
   "execution_count": 44,
   "metadata": {},
   "outputs": [
    {
     "name": "stdout",
     "output_type": "stream",
     "text": [
      "Mi error RMSE:  5.67977950785355\n"
     ]
    }
   ],
   "source": [
    "#RMSE= raiz(promedio((yi-yi_gorro))^2)\n",
    "#RMSE= raiz(promedio((\"residual\"))^2)\n",
    "RMSE = np.mean(df[\"residual\"]**2)**(1/2)\n",
    "print(\"Mi error RMSE: \", RMSE)"
   ]
  },
  {
   "cell_type": "code",
   "execution_count": 45,
   "metadata": {},
   "outputs": [
    {
     "name": "stdout",
     "output_type": "stream",
     "text": [
      "r^2:  0.21046291056163857\n"
     ]
    }
   ],
   "source": [
    "print(\"r^2: \", regr.score(df[[\"Midparent_cm\"]], df[[\"Child_cm\"]]))"
   ]
  },
  {
   "cell_type": "code",
   "execution_count": 46,
   "metadata": {},
   "outputs": [
    {
     "name": "stdout",
     "output_type": "stream",
     "text": [
      "r^2:  0.21046291056163857\n"
     ]
    }
   ],
   "source": [
    "from sklearn.metrics import r2_score\n",
    "print(\"r^2: \", r2_score(df[\"Child_cm\"], df[\"predict\"]))"
   ]
  },
  {
   "attachments": {},
   "cell_type": "markdown",
   "metadata": {},
   "source": [
    "Marco experimental para ML\n",
    "\n",
    "Datos\n",
    "Anotaciones(label, target, variable dependiente, ...)\n",
    "Metodologia para saber que tan buen modelo(Metricas)"
   ]
  },
  {
   "cell_type": "code",
   "execution_count": 47,
   "metadata": {},
   "outputs": [
    {
     "data": {
      "text/html": [
       "<div>\n",
       "<style scoped>\n",
       "    .dataframe tbody tr th:only-of-type {\n",
       "        vertical-align: middle;\n",
       "    }\n",
       "\n",
       "    .dataframe tbody tr th {\n",
       "        vertical-align: top;\n",
       "    }\n",
       "\n",
       "    .dataframe thead th {\n",
       "        text-align: right;\n",
       "    }\n",
       "</style>\n",
       "<table border=\"1\" class=\"dataframe\">\n",
       "  <thead>\n",
       "    <tr style=\"text-align: right;\">\n",
       "      <th></th>\n",
       "      <th>Midparent</th>\n",
       "      <th>Midparent_cm</th>\n",
       "    </tr>\n",
       "  </thead>\n",
       "  <tbody>\n",
       "    <tr>\n",
       "      <th>Midparent</th>\n",
       "      <td>1.0</td>\n",
       "      <td>1.0</td>\n",
       "    </tr>\n",
       "    <tr>\n",
       "      <th>Midparent_cm</th>\n",
       "      <td>1.0</td>\n",
       "      <td>1.0</td>\n",
       "    </tr>\n",
       "  </tbody>\n",
       "</table>\n",
       "</div>"
      ],
      "text/plain": [
       "              Midparent  Midparent_cm\n",
       "Midparent           1.0           1.0\n",
       "Midparent_cm        1.0           1.0"
      ]
     },
     "execution_count": 47,
     "metadata": {},
     "output_type": "execute_result"
    }
   ],
   "source": [
    "df[[\"Midparent\", \"Midparent_cm\"]].corr()"
   ]
  }
 ],
 "metadata": {
  "kernelspec": {
   "display_name": "Python 3",
   "language": "python",
   "name": "python3"
  },
  "language_info": {
   "codemirror_mode": {
    "name": "ipython",
    "version": 3
   },
   "file_extension": ".py",
   "mimetype": "text/x-python",
   "name": "python",
   "nbconvert_exporter": "python",
   "pygments_lexer": "ipython3",
   "version": "3.11.2"
  },
  "orig_nbformat": 4
 },
 "nbformat": 4,
 "nbformat_minor": 2
}
